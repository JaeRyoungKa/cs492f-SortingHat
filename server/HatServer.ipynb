{
 "cells": [
  {
   "cell_type": "code",
   "execution_count": 1,
   "metadata": {
    "scrolled": true
   },
   "outputs": [
    {
     "name": "stderr",
     "output_type": "stream",
     "text": [
      "/home/flagship/.local/lib/python3.6/site-packages/tensorflow/python/framework/dtypes.py:516: FutureWarning: Passing (type, 1) or '1type' as a synonym of type is deprecated; in a future version of numpy, it will be understood as (type, (1,)) / '(1,)type'.\n",
      "  _np_qint8 = np.dtype([(\"qint8\", np.int8, 1)])\n",
      "/home/flagship/.local/lib/python3.6/site-packages/tensorflow/python/framework/dtypes.py:517: FutureWarning: Passing (type, 1) or '1type' as a synonym of type is deprecated; in a future version of numpy, it will be understood as (type, (1,)) / '(1,)type'.\n",
      "  _np_quint8 = np.dtype([(\"quint8\", np.uint8, 1)])\n",
      "/home/flagship/.local/lib/python3.6/site-packages/tensorflow/python/framework/dtypes.py:518: FutureWarning: Passing (type, 1) or '1type' as a synonym of type is deprecated; in a future version of numpy, it will be understood as (type, (1,)) / '(1,)type'.\n",
      "  _np_qint16 = np.dtype([(\"qint16\", np.int16, 1)])\n",
      "/home/flagship/.local/lib/python3.6/site-packages/tensorflow/python/framework/dtypes.py:519: FutureWarning: Passing (type, 1) or '1type' as a synonym of type is deprecated; in a future version of numpy, it will be understood as (type, (1,)) / '(1,)type'.\n",
      "  _np_quint16 = np.dtype([(\"quint16\", np.uint16, 1)])\n",
      "/home/flagship/.local/lib/python3.6/site-packages/tensorflow/python/framework/dtypes.py:520: FutureWarning: Passing (type, 1) or '1type' as a synonym of type is deprecated; in a future version of numpy, it will be understood as (type, (1,)) / '(1,)type'.\n",
      "  _np_qint32 = np.dtype([(\"qint32\", np.int32, 1)])\n",
      "/home/flagship/.local/lib/python3.6/site-packages/tensorflow/python/framework/dtypes.py:525: FutureWarning: Passing (type, 1) or '1type' as a synonym of type is deprecated; in a future version of numpy, it will be understood as (type, (1,)) / '(1,)type'.\n",
      "  np_resource = np.dtype([(\"resource\", np.ubyte, 1)])\n",
      "/home/flagship/.local/lib/python3.6/site-packages/tensorboard/compat/tensorflow_stub/dtypes.py:541: FutureWarning: Passing (type, 1) or '1type' as a synonym of type is deprecated; in a future version of numpy, it will be understood as (type, (1,)) / '(1,)type'.\n",
      "  _np_qint8 = np.dtype([(\"qint8\", np.int8, 1)])\n",
      "/home/flagship/.local/lib/python3.6/site-packages/tensorboard/compat/tensorflow_stub/dtypes.py:542: FutureWarning: Passing (type, 1) or '1type' as a synonym of type is deprecated; in a future version of numpy, it will be understood as (type, (1,)) / '(1,)type'.\n",
      "  _np_quint8 = np.dtype([(\"quint8\", np.uint8, 1)])\n",
      "/home/flagship/.local/lib/python3.6/site-packages/tensorboard/compat/tensorflow_stub/dtypes.py:543: FutureWarning: Passing (type, 1) or '1type' as a synonym of type is deprecated; in a future version of numpy, it will be understood as (type, (1,)) / '(1,)type'.\n",
      "  _np_qint16 = np.dtype([(\"qint16\", np.int16, 1)])\n",
      "/home/flagship/.local/lib/python3.6/site-packages/tensorboard/compat/tensorflow_stub/dtypes.py:544: FutureWarning: Passing (type, 1) or '1type' as a synonym of type is deprecated; in a future version of numpy, it will be understood as (type, (1,)) / '(1,)type'.\n",
      "  _np_quint16 = np.dtype([(\"quint16\", np.uint16, 1)])\n",
      "/home/flagship/.local/lib/python3.6/site-packages/tensorboard/compat/tensorflow_stub/dtypes.py:545: FutureWarning: Passing (type, 1) or '1type' as a synonym of type is deprecated; in a future version of numpy, it will be understood as (type, (1,)) / '(1,)type'.\n",
      "  _np_qint32 = np.dtype([(\"qint32\", np.int32, 1)])\n",
      "/home/flagship/.local/lib/python3.6/site-packages/tensorboard/compat/tensorflow_stub/dtypes.py:550: FutureWarning: Passing (type, 1) or '1type' as a synonym of type is deprecated; in a future version of numpy, it will be understood as (type, (1,)) / '(1,)type'.\n",
      "  np_resource = np.dtype([(\"resource\", np.ubyte, 1)])\n"
     ]
    }
   ],
   "source": [
    "import tensorflow as tf\n",
    "\n",
    "from tensorflow.keras import datasets, layers, models\n",
    "import numpy as np\n",
    "from numpy import genfromtxt\n"
   ]
  },
  {
   "cell_type": "code",
   "execution_count": 4,
   "metadata": {},
   "outputs": [],
   "source": [
    "def reTrain():\n",
    "    sorData = genfromtxt('data.csv', delimiter=',')\n",
    "    sorData = sorData[1:,:5]\n",
    "    sorData = np.take(sorData,np.random.permutation(sorData.shape[0]),axis=0,out=sorData)\n",
    "    sorData = np.asarray(sorData)\n",
    "    sortDataX = sorData[:,:4].astype(int)\n",
    "    sortDataY = sorData[:,4].astype(int)\n",
    "\n",
    "    model = tf.keras.Sequential([\n",
    "        layers.Dense(4, activation='relu', input_shape=[sortDataX.shape[1]]),\n",
    "        layers.Dense(4, activation='relu'),\n",
    "        layers.Dense(5,activation='softmax')\n",
    "      ])\n",
    "\n",
    "    optimizer = tf.keras.optimizers.RMSprop(0.001)\n",
    "\n",
    "    model.compile(optimizer=optimizer,\n",
    "                    loss='sparse_categorical_crossentropy',\n",
    "                    metrics=['accuracy'])\n",
    "    \n",
    "    class PrintDot(tf.keras.callbacks.Callback):\n",
    "        def on_epoch_end(self, epoch, logs):\n",
    "            if epoch % 100 == 0: print('')\n",
    "            print('.', end='')\n",
    "\n",
    "        EPOCHS = 1000\n",
    "\n",
    "    history = model.fit(\n",
    "      sortDataX, sortDataY,\n",
    "      epochs=EPOCHS, validation_split = 0.2, verbose=0,\n",
    "      callbacks=[PrintDot()])\n",
    "    \n",
    "    return model\n",
    "\n",
    "def predict(Domain,LearnerAge,LearnerLevel,ContributorLevel):\n",
    "    \n",
    "    predData = [[Domain,LearnerAge,LearnerLevel,ContributorLevel,YClass]]\n",
    "        \n",
    "    res = model.predict(predData)\n",
    "    np.set_printoptions(suppress=True)\n",
    "\n",
    "    \n",
    "    return res"
   ]
  },
  {
   "cell_type": "code",
   "execution_count": null,
   "metadata": {},
   "outputs": [
    {
     "name": "stdout",
     "output_type": "stream",
     "text": [
      " * Serving Flask app \"__main__\" (lazy loading)\n",
      " * Environment: production\n",
      "\u001b[31m   WARNING: This is a development server. Do not use it in a production deployment.\u001b[0m\n",
      "\u001b[2m   Use a production WSGI server instead.\u001b[0m\n",
      " * Debug mode: off\n"
     ]
    },
    {
     "name": "stderr",
     "output_type": "stream",
     "text": [
      " * Running on http://0.0.0.0:52005/ (Press CTRL+C to quit)\n",
      "110.76.77.9 - - [29/Nov/2020 17:17:16] \"\u001b[31m\u001b[1mGET /judgeWord HTTP/1.1\u001b[0m\" 405 -\n",
      "110.76.77.9 - - [29/Nov/2020 17:17:17] \"\u001b[33mGET /favicon.ico HTTP/1.1\u001b[0m\" 404 -\n",
      "110.76.77.9 - - [29/Nov/2020 17:22:03] \"\u001b[37mOPTIONS /judgeWord HTTP/1.1\u001b[0m\" 200 -\n",
      "110.76.77.9 - - [29/Nov/2020 17:22:04] \"\u001b[37mPOST /judgeWord HTTP/1.1\u001b[0m\" 200 -\n"
     ]
    },
    {
     "name": "stdout",
     "output_type": "stream",
     "text": [
      "response <Response 46 bytes [200 OK]>\n"
     ]
    },
    {
     "name": "stderr",
     "output_type": "stream",
     "text": [
      "172.25.0.252 - - [29/Nov/2020 17:56:49] \"\u001b[37mOPTIONS /judgeWord HTTP/1.1\u001b[0m\" 200 -\n",
      "172.25.0.252 - - [29/Nov/2020 17:56:49] \"\u001b[37mPOST /judgeWord HTTP/1.1\u001b[0m\" 200 -\n"
     ]
    },
    {
     "name": "stdout",
     "output_type": "stream",
     "text": [
      "response <Response 46 bytes [200 OK]>\n"
     ]
    },
    {
     "name": "stderr",
     "output_type": "stream",
     "text": [
      "172.25.0.252 - - [29/Nov/2020 17:56:57] \"\u001b[37mOPTIONS /judgeWord HTTP/1.1\u001b[0m\" 200 -\n",
      "172.25.0.252 - - [29/Nov/2020 17:56:57] \"\u001b[37mPOST /judgeWord HTTP/1.1\u001b[0m\" 200 -\n"
     ]
    },
    {
     "name": "stdout",
     "output_type": "stream",
     "text": [
      "response <Response 46 bytes [200 OK]>\n"
     ]
    },
    {
     "name": "stderr",
     "output_type": "stream",
     "text": [
      "172.25.0.252 - - [29/Nov/2020 17:57:27] \"\u001b[31m\u001b[1mGET /judgeWord HTTP/1.1\u001b[0m\" 405 -\n",
      "172.25.0.252 - - [29/Nov/2020 17:58:48] \"\u001b[31m\u001b[1mGET /judgeWord HTTP/1.1\u001b[0m\" 405 -\n"
     ]
    }
   ],
   "source": [
    "from flask import Flask\n",
    "from flask import request\n",
    "from flask import jsonify\n",
    "from flask import json\n",
    "from flask import Response\n",
    "from flask_cors import CORS, cross_origin\n",
    "\n",
    "from OpenSSL import SSL\n",
    "\n",
    "\n",
    "# context = SSL.Context(SSL.SSLv23_METHOD)\n",
    "# cer = 'future.crt'\n",
    "# key = 'future.key'\n",
    "# import requests\n",
    "# context = ('future.crt', 'future.key')\n",
    "\n",
    "app = Flask(__name__)\n",
    "cors = CORS(app)\n",
    "app.config['CORS_HEADERS'] = 'Content-Type'\n",
    "\n",
    "@app.route(\"/judgeWord\", methods=['POST'])\n",
    "def home():\n",
    "    \n",
    "    domain = request.form.get(\"domain\")\n",
    "    originWord =  request.form.get(\"originWord\")\n",
    "    word = request.form.get(\"word\")\n",
    "    appr = request.form.get(\"appr\")\n",
    "    \n",
    "    fileName = originWord + \".csv\"\n",
    "    \n",
    "    file = open(fileName,'a')\n",
    "    \n",
    "    file.write(domain,word,appr)\n",
    "    \n",
    "    \n",
    "    data = jsonify(domain = domain,word=word,degree=degree)\n",
    "    my_res = Response(response=json.dumps({\"domain\" : domain,\"word\" : word,\"degree\" :degree}))\n",
    "    \n",
    "    my_res.headers[\"Access-Control-Allow-Origin\"] = \"*\"\n",
    "    \n",
    "    print (\"response\", my_res)\n",
    "    \n",
    "    return my_res\n",
    "\n",
    "\n",
    "@app.route(\"/reTrain\", methods=['POST'])\n",
    "def retrain():\n",
    "    \n",
    "    file = open('data.csv','a')\n",
    "    \n",
    "    domain = request.form.get(\"domain\")\n",
    "    learnerAge = request.form.get(\"LearnerAge\")\n",
    "    learnerLevel = request.form.get(\"LearnerLevel\")\n",
    "    contributorLevel = request.form.get(\"ContributorLevel\")\n",
    "    \n",
    "    file.write(domain,learnerAge,learnerLevel,contributorLevel)\n",
    "    \n",
    "    \n",
    "    retrain()\n",
    "    \n",
    "    \n",
    "    my_res = Response(response=json.dumps({\"Result\" : \"Success\"}))\n",
    "    \n",
    "    my_res.headers[\"Access-Control-Allow-Origin\"] = \"*\"\n",
    "    \n",
    "    print (\"response\", my_res)\n",
    "    \n",
    "    return my_res\n",
    "\n",
    "\n",
    "@app.route(\"/predict\", methods=['POST'])\n",
    "\n",
    "def predict():\n",
    "    \n",
    "    \n",
    "    \n",
    "    domain = request.form.get(\"domain\")\n",
    "    learnerAge = request.form.get(\"LearnerAge\")\n",
    "    learnerLevel = request.form.get(\"LearnerLevel\")\n",
    "    contributorLevel = request.form.get(\"ContributorLevel\")\n",
    "    \n",
    "    result = predict(domain,learnerAge,learnerLevel,ContributorLevel)\n",
    "    \n",
    "    my_res = Response(response=json.dumps({\"Result\" : result}))\n",
    "    \n",
    "    my_res.headers[\"Access-Control-Allow-Origin\"] = \"*\"\n",
    "    \n",
    "    print (\"response\", my_res)\n",
    "    \n",
    "    return my_res\n",
    "\n",
    "\n",
    "\n",
    "\n",
    "\n",
    "\n",
    "@app.route(\"/test\")\n",
    "def test():\n",
    "    \n",
    "    print (\"hellp\")\n",
    "    \n",
    "    return \"help\"\n",
    "if __name__ == \"__main__\":\n",
    "    app.run(host = '0.0.0.0',port=52005)"
   ]
  },
  {
   "cell_type": "code",
   "execution_count": null,
   "metadata": {},
   "outputs": [],
   "source": [
    "/judgeWord\n",
    "Req :\n",
    "body.domain: \"math\"\n",
    "body.word : \"function\"\n",
    "body.degree: (int) -1, 0, 1\n",
    "body.userInfo\n",
    "body.alt: \"함수\"\n",
    "\n",
    "userInfo\n",
    " - Experties: (int) 1, 2, 3 (학생, 교사, 전문가)\n",
    " - Age: (int)\n",
    "- Level: (int) 0, 1, 2, 3 (highschool, undergrad, masters, phd)"
   ]
  },
  {
   "cell_type": "code",
   "execution_count": null,
   "metadata": {},
   "outputs": [],
   "source": []
  }
 ],
 "metadata": {
  "kernelspec": {
   "display_name": "Python 3",
   "language": "python",
   "name": "python3"
  },
  "language_info": {
   "codemirror_mode": {
    "name": "ipython",
    "version": 3
   },
   "file_extension": ".py",
   "mimetype": "text/x-python",
   "name": "python",
   "nbconvert_exporter": "python",
   "pygments_lexer": "ipython3",
   "version": "3.6.9"
  }
 },
 "nbformat": 4,
 "nbformat_minor": 4
}
